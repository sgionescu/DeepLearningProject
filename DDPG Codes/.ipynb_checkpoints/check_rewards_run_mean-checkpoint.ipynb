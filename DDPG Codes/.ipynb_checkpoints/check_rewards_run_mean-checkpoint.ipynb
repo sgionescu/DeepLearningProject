{
 "cells": [
  {
   "cell_type": "code",
   "execution_count": 1,
   "metadata": {},
   "outputs": [],
   "source": [
    "import pickle\n",
    "import matplotlib.pyplot as plt\n",
    "import pandas as pd\n"
   ]
  },
  {
   "cell_type": "code",
   "execution_count": null,
   "metadata": {},
   "outputs": [],
   "source": [
    "q_max_lr0_01 = pickle.load(open(\"q_max_mountain_car_100episodes_critic_lr0_01.p\", \"rb\"))\n",
    "q_max_lr0_001 = pickle.load(open(\"q_max_mountain_car_100episodes_critic_lr0_001.p\", \"rb\"))\n",
    "#q_max_lr0_0005 = pickle.load(open(\"q_max_critic_lr0_0005.p\", \"rb\"))\n",
    "#print(q_max)\n",
    "ts1 = pd.Series(q_max_lr0_01)\n",
    "ts2 = pd.Series(q_max_lr0_001)\n",
    "#ts3 = pd.Series(q_max_lr0_0005)\n",
    "\n",
    "fig = plt.figure()\n",
    "plt.plot(pd.rolling_mean(ts1, 20))\n",
    "plt.plot(pd.rolling_mean(ts2, 20))\n",
    "#plt.plot(pd.rolling_mean(ts3, 20))\n",
    "plt.xlabel('Episode Number')\n",
    "plt.ylabel('Max Q-value')\n",
    "plt.show()\n",
    "#fig.savefig('Rewards_bipedal_critic_lr0_01_1000episodes.jpg')"
   ]
  }
 ],
 "metadata": {
  "kernelspec": {
   "display_name": "Python 2",
   "language": "python",
   "name": "python2"
  },
  "language_info": {
   "codemirror_mode": {
    "name": "ipython",
    "version": 2
   },
   "file_extension": ".py",
   "mimetype": "text/x-python",
   "name": "python",
   "nbconvert_exporter": "python",
   "pygments_lexer": "ipython2",
   "version": "2.7.14"
  }
 },
 "nbformat": 4,
 "nbformat_minor": 2
}
